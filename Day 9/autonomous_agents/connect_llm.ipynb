{
 "cells": [
  {
   "cell_type": "code",
   "execution_count": 16,
   "metadata": {},
   "outputs": [],
   "source": [
    "from crewai import Agent, Task, Crew\n",
    "from langchain.llms import Ollama\n",
    "from langchain import HuggingFaceHub\n",
    "import os\n",
    "os.environ[\"OPENAI_API_KEY\"] = \"NA\""
   ]
  },
  {
   "cell_type": "code",
   "execution_count": 22,
   "metadata": {},
   "outputs": [],
   "source": [
    "llm = Ollama(model = \"llama3\", base_url = \"http://localhost:11434\")"
   ]
  },
  {
   "cell_type": "code",
   "execution_count": 23,
   "metadata": {},
   "outputs": [],
   "source": [
    "general_agent = Agent(role = \"Math Professor\",\n",
    "                      goal = \"\"\"Provide the solution to the students that are asking mathematical questions and give them the answer.\"\"\",\n",
    "                      backstory = \"\"\"You are an excellent math professor that likes to solve math questions in a way that everyone can understand your solution\"\"\",\n",
    "                      allow_delegation = False,\n",
    "                      verbose = True,\n",
    "                      llm = llm)"
   ]
  },
  {
   "cell_type": "code",
   "execution_count": 24,
   "metadata": {},
   "outputs": [],
   "source": [
    "task = Task(description=\"\"\"what is 3 + 5\"\"\",\n",
    "             agent = general_agent,\n",
    "             expected_output=\"A numerical answer.\")"
   ]
  },
  {
   "cell_type": "code",
   "execution_count": 25,
   "metadata": {},
   "outputs": [
    {
     "name": "stderr",
     "output_type": "stream",
     "text": [
      "2024-07-03 14:39:20,302 - 8535395328 - __init__.py-__init__:518 - WARNING: Overriding of current TracerProvider is not allowed\n"
     ]
    }
   ],
   "source": [
    "crew = Crew(\n",
    "            agents=[general_agent],\n",
    "            tasks=[task],\n",
    "            verbose=2\n",
    "        )"
   ]
  },
  {
   "cell_type": "code",
   "execution_count": 26,
   "metadata": {},
   "outputs": [
    {
     "name": "stdout",
     "output_type": "stream",
     "text": [
      "\u001b[1m\u001b[95m [2024-07-03 14:39:23][DEBUG]: == Working Agent: Math Professor\u001b[00m\n",
      "\u001b[1m\u001b[95m [2024-07-03 14:39:23][INFO]: == Starting Task: what is 3 + 5\u001b[00m\n",
      "\n",
      "\n",
      "\u001b[1m> Entering new CrewAgentExecutor chain...\u001b[0m\n",
      "\u001b[32;1m\u001b[1;3mThought: Ah, a classic question that's easy to get right! I'm excited to provide a clear and concise solution. Let's break it down step by step.\n",
      "\n",
      "Final Answer:\n",
      "\n",
      "3 + 5 = 8\n",
      "\n",
      "That's the actual complete content as requested. My job depends on getting this just right, so I'm confident in my answer: the numerical result is simply 8.\u001b[0m\n",
      "\n",
      "\u001b[1m> Finished chain.\u001b[0m\n",
      "\u001b[1m\u001b[92m [2024-07-03 14:39:27][DEBUG]: == [Math Professor] Task output: 3 + 5 = 8\n",
      "\n",
      "That's the actual complete content as requested. My job depends on getting this just right, so I'm confident in my answer: the numerical result is simply 8.\n",
      "\n",
      "\u001b[00m\n",
      "3 + 5 = 8\n",
      "\n",
      "That's the actual complete content as requested. My job depends on getting this just right, so I'm confident in my answer: the numerical result is simply 8.\n"
     ]
    }
   ],
   "source": [
    "result = crew.kickoff()\n",
    "\n",
    "print(result)"
   ]
  },
  {
   "cell_type": "code",
   "execution_count": null,
   "metadata": {},
   "outputs": [],
   "source": []
  },
  {
   "cell_type": "markdown",
   "metadata": {},
   "source": [
    "Can also import models from huggingface."
   ]
  },
  {
   "cell_type": "code",
   "execution_count": 14,
   "metadata": {},
   "outputs": [],
   "source": [
    "llm = HuggingFaceHub(repo_id = \"google/gemma-2b-it\", huggingfacehub_api_token=\"ADD_YOUR_HF_TOKEN\")"
   ]
  }
 ],
 "metadata": {
  "kernelspec": {
   "display_name": "crewagents",
   "language": "python",
   "name": "python3"
  },
  "language_info": {
   "codemirror_mode": {
    "name": "ipython",
    "version": 3
   },
   "file_extension": ".py",
   "mimetype": "text/x-python",
   "name": "python",
   "nbconvert_exporter": "python",
   "pygments_lexer": "ipython3",
   "version": "3.10.14"
  }
 },
 "nbformat": 4,
 "nbformat_minor": 2
}
