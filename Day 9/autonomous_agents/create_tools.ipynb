{
 "cells": [
  {
   "cell_type": "code",
   "execution_count": 2,
   "metadata": {},
   "outputs": [],
   "source": [
    "from crewai_tools import BaseTool"
   ]
  },
  {
   "cell_type": "markdown",
   "metadata": {},
   "source": [
    "Format for creating a tool"
   ]
  },
  {
   "cell_type": "code",
   "execution_count": null,
   "metadata": {},
   "outputs": [],
   "source": [
    "class MyCustomTool(BaseTool):\n",
    "    name: str = \"Name of my tool\"\n",
    "    description: str = \"What this tool does. It's vital for effective utilization.\"\n",
    "\n",
    "    def _run(self, argument: str) -> str:\n",
    "        # Your tool's logic here\n",
    "        return \"Tool's result\""
   ]
  },
  {
   "cell_type": "markdown",
   "metadata": {},
   "source": [
    "What are other available tools?"
   ]
  },
  {
   "cell_type": "code",
   "execution_count": 3,
   "metadata": {},
   "outputs": [],
   "source": [
    "import crewai_tools"
   ]
  },
  {
   "cell_type": "code",
   "execution_count": 4,
   "metadata": {},
   "outputs": [
    {
     "data": {
      "text/plain": [
       "['BaseTool',\n",
       " 'BrowserbaseLoadTool',\n",
       " 'CSVSearchTool',\n",
       " 'CodeDocsSearchTool',\n",
       " 'CodeInterpreterTool',\n",
       " 'ComposioTool',\n",
       " 'DOCXSearchTool',\n",
       " 'DirectoryReadTool',\n",
       " 'DirectorySearchTool',\n",
       " 'EXASearchTool',\n",
       " 'FileReadTool',\n",
       " 'GithubSearchTool',\n",
       " 'JSONSearchTool',\n",
       " 'LlamaIndexTool',\n",
       " 'MDXSearchTool',\n",
       " 'PDFSearchTool',\n",
       " 'PGSearchTool',\n",
       " 'RagTool',\n",
       " 'ScrapeElementFromWebsiteTool',\n",
       " 'ScrapeWebsiteTool',\n",
       " 'SeleniumScrapingTool',\n",
       " 'SerperDevTool',\n",
       " 'TXTSearchTool',\n",
       " 'Tool',\n",
       " 'WebsiteSearchTool',\n",
       " 'XMLSearchTool',\n",
       " 'YoutubeChannelSearchTool',\n",
       " 'YoutubeVideoSearchTool',\n",
       " '__builtins__',\n",
       " '__cached__',\n",
       " '__doc__',\n",
       " '__file__',\n",
       " '__loader__',\n",
       " '__name__',\n",
       " '__package__',\n",
       " '__path__',\n",
       " '__spec__',\n",
       " 'tool',\n",
       " 'tools']"
      ]
     },
     "execution_count": 4,
     "metadata": {},
     "output_type": "execute_result"
    }
   ],
   "source": [
    "dir(crewai_tools)"
   ]
  },
  {
   "cell_type": "code",
   "execution_count": 5,
   "metadata": {},
   "outputs": [],
   "source": [
    "from langchain_community.tools import DuckDuckGoSearchRun"
   ]
  },
  {
   "cell_type": "code",
   "execution_count": 8,
   "metadata": {},
   "outputs": [],
   "source": [
    "from crewai_tools import tool\n",
    "@tool(\"Duck_Duck_Go_Search\")\n",
    "def ddgsearch(question: str) -> str:\n",
    "    \"\"\"Search the question on duckduckgo\"\"\"\n",
    "    return DuckDuckGoSearchRun().run(question)"
   ]
  },
  {
   "cell_type": "code",
   "execution_count": null,
   "metadata": {},
   "outputs": [],
   "source": []
  }
 ],
 "metadata": {
  "kernelspec": {
   "display_name": "crewagents",
   "language": "python",
   "name": "python3"
  },
  "language_info": {
   "codemirror_mode": {
    "name": "ipython",
    "version": 3
   },
   "file_extension": ".py",
   "mimetype": "text/x-python",
   "name": "python",
   "nbconvert_exporter": "python",
   "pygments_lexer": "ipython3",
   "version": "3.10.14"
  }
 },
 "nbformat": 4,
 "nbformat_minor": 2
}
